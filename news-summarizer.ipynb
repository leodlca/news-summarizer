{
 "cells": [
  {
   "cell_type": "markdown",
   "metadata": {},
   "source": [
    "# News Summarizer"
   ]
  },
  {
   "cell_type": "code",
   "execution_count": 1,
   "metadata": {
    "ExecuteTime": {
     "end_time": "2019-08-07T16:26:37.322758Z",
     "start_time": "2019-08-07T16:26:36.263233Z"
    }
   },
   "outputs": [],
   "source": [
    "import sqlite3\n",
    "import pandas as pd\n",
    "import numpy as np\n",
    "import seaborn as sns\n",
    "import matplotlib.pyplot as plt\n",
    "import os\n",
    "import spacy\n",
    "\n",
    "from gensim.corpora import Dictionary\n",
    "from gensim.models.tfidfmodel import TfidfModel\n",
    "from gensim.matutils import sparse2full\n",
    "from matplotlib import rcParams\n",
    "\n",
    "sns.set()\n",
    "%config InlineBackend.figure_format = 'png' \n",
    "palette = sns.hls_palette(8, h=.7, s=.9, l=0.5)\n",
    "sns.palplot(palette)\n",
    "sns.set_palette(palette)\n",
    "\n",
    "gray = \"444444\"\n",
    "\n",
    "plt.rcParams['figure.facecolor'] = '1' #background color\n",
    "plt.rcParams['axes.facecolor'] = '1' #plot background color\n",
    "\n",
    "plt.rcParams['grid.color'] = '0.8'\n",
    "plt.rcParams['grid.alpha'] = .4\n",
    "\n",
    "plt.rcParams['axes.edgecolor'] = '1'\n",
    "\n",
    "plt.rcParams['lines.linewidth'] = 1.5\n",
    "plt.rcParams['grid.linestyle'] = '-'\n",
    "\n",
    "plt.rcParams['axes.axisbelow'] = True\n",
    "plt.rcParams['axes.labelcolor'] = gray\n",
    "\n",
    "plt.rcParams['text.color'] = gray\n",
    "\n",
    "plt.rcParams['xtick.color'] = gray\n",
    "plt.rcParams['ytick.color'] = gray\n",
    "sns.set_style(\"whitegrid\")\n",
    "\n",
    "os.environ['KMP_DUPLICATE_LIB_OK'] = 'True'\n",
    "binary_classes = ['False', 'True']\n",
    "rcParams['figure.figsize'] = 10, 6\n"
   ]
  },
  {
   "cell_type": "markdown",
   "metadata": {},
   "source": [
    "## Load and clean dataset\n",
    "\n",
    "[All-the-news dataset download link](https://components.one/datasets/all-the-news-articles-dataset/)"
   ]
  },
  {
   "cell_type": "code",
   "execution_count": 2,
   "metadata": {
    "ExecuteTime": {
     "end_time": "2019-08-07T16:26:40.566074Z",
     "start_time": "2019-08-07T16:26:37.324755Z"
    }
   },
   "outputs": [
    {
     "name": "stdout",
     "output_type": "stream",
     "text": [
      "(204135, 12)\n"
     ]
    },
    {
     "data": {
      "text/html": [
       "<div>\n",
       "<style scoped>\n",
       "    .dataframe tbody tr th:only-of-type {\n",
       "        vertical-align: middle;\n",
       "    }\n",
       "\n",
       "    .dataframe tbody tr th {\n",
       "        vertical-align: top;\n",
       "    }\n",
       "\n",
       "    .dataframe thead th {\n",
       "        text-align: right;\n",
       "    }\n",
       "</style>\n",
       "<table border=\"1\" class=\"dataframe\">\n",
       "  <thead>\n",
       "    <tr style=\"text-align: right;\">\n",
       "      <th></th>\n",
       "      <th>id</th>\n",
       "      <th>title</th>\n",
       "      <th>author</th>\n",
       "      <th>date</th>\n",
       "      <th>content</th>\n",
       "      <th>year</th>\n",
       "      <th>month</th>\n",
       "      <th>publication</th>\n",
       "      <th>category</th>\n",
       "      <th>digital</th>\n",
       "      <th>section</th>\n",
       "      <th>url</th>\n",
       "    </tr>\n",
       "  </thead>\n",
       "  <tbody>\n",
       "    <tr>\n",
       "      <th>0</th>\n",
       "      <td>1</td>\n",
       "      <td>Agent Cooper in Twin Peaks is the audience: on...</td>\n",
       "      <td>\\nTasha Robinson\\n</td>\n",
       "      <td>2017-05-31</td>\n",
       "      <td>And never more so than in Showtime’s new...</td>\n",
       "      <td>2017</td>\n",
       "      <td>5</td>\n",
       "      <td>Verge</td>\n",
       "      <td>Longform</td>\n",
       "      <td>1.0</td>\n",
       "      <td>None</td>\n",
       "      <td>None</td>\n",
       "    </tr>\n",
       "    <tr>\n",
       "      <th>1</th>\n",
       "      <td>2</td>\n",
       "      <td>AI, the humanity!</td>\n",
       "      <td>\\nSam Byford\\n</td>\n",
       "      <td>2017-05-30</td>\n",
       "      <td>AlphaGo’s victory isn’t a defeat for hum...</td>\n",
       "      <td>2017</td>\n",
       "      <td>5</td>\n",
       "      <td>Verge</td>\n",
       "      <td>Longform</td>\n",
       "      <td>1.0</td>\n",
       "      <td>None</td>\n",
       "      <td>None</td>\n",
       "    </tr>\n",
       "    <tr>\n",
       "      <th>2</th>\n",
       "      <td>3</td>\n",
       "      <td>The Viral Machine</td>\n",
       "      <td>\\nKaitlyn Tiffany\\n</td>\n",
       "      <td>2017-05-25</td>\n",
       "      <td>Super Deluxe built a weird internet empi...</td>\n",
       "      <td>2017</td>\n",
       "      <td>5</td>\n",
       "      <td>Verge</td>\n",
       "      <td>Longform</td>\n",
       "      <td>1.0</td>\n",
       "      <td>None</td>\n",
       "      <td>None</td>\n",
       "    </tr>\n",
       "    <tr>\n",
       "      <th>3</th>\n",
       "      <td>4</td>\n",
       "      <td>How Anker is beating Apple and Samsung at thei...</td>\n",
       "      <td>\\nNick Statt\\n</td>\n",
       "      <td>2017-05-22</td>\n",
       "      <td>Steven Yang quit his job at Google in th...</td>\n",
       "      <td>2017</td>\n",
       "      <td>5</td>\n",
       "      <td>Verge</td>\n",
       "      <td>Longform</td>\n",
       "      <td>1.0</td>\n",
       "      <td>None</td>\n",
       "      <td>None</td>\n",
       "    </tr>\n",
       "    <tr>\n",
       "      <th>4</th>\n",
       "      <td>5</td>\n",
       "      <td>Tour Black Panther’s reimagined homeland with ...</td>\n",
       "      <td>\\nKwame Opam\\n</td>\n",
       "      <td>2017-05-15</td>\n",
       "      <td>Ahead of Black Panther’s 2018 theatrical...</td>\n",
       "      <td>2017</td>\n",
       "      <td>5</td>\n",
       "      <td>Verge</td>\n",
       "      <td>Longform</td>\n",
       "      <td>1.0</td>\n",
       "      <td>None</td>\n",
       "      <td>None</td>\n",
       "    </tr>\n",
       "  </tbody>\n",
       "</table>\n",
       "</div>"
      ],
      "text/plain": [
       "   id                                              title               author  \\\n",
       "0   1  Agent Cooper in Twin Peaks is the audience: on...   \\nTasha Robinson\\n   \n",
       "1   2                                  AI, the humanity!       \\nSam Byford\\n   \n",
       "2   3                                  The Viral Machine  \\nKaitlyn Tiffany\\n   \n",
       "3   4  How Anker is beating Apple and Samsung at thei...       \\nNick Statt\\n   \n",
       "4   5  Tour Black Panther’s reimagined homeland with ...       \\nKwame Opam\\n   \n",
       "\n",
       "         date                                            content  year month  \\\n",
       "0  2017-05-31        And never more so than in Showtime’s new...  2017     5   \n",
       "1  2017-05-30        AlphaGo’s victory isn’t a defeat for hum...  2017     5   \n",
       "2  2017-05-25        Super Deluxe built a weird internet empi...  2017     5   \n",
       "3  2017-05-22        Steven Yang quit his job at Google in th...  2017     5   \n",
       "4  2017-05-15        Ahead of Black Panther’s 2018 theatrical...  2017     5   \n",
       "\n",
       "  publication  category  digital section   url  \n",
       "0       Verge  Longform      1.0    None  None  \n",
       "1       Verge  Longform      1.0    None  None  \n",
       "2       Verge  Longform      1.0    None  None  \n",
       "3       Verge  Longform      1.0    None  None  \n",
       "4       Verge  Longform      1.0    None  None  "
      ]
     },
     "execution_count": 2,
     "metadata": {},
     "output_type": "execute_result"
    }
   ],
   "source": [
    "cnx = sqlite3.connect('dataset/all-the-news.db')\n",
    "df = pd.read_sql_query(\"SELECT * FROM longform\", cnx)\n",
    "print(df.shape)\n",
    "cnx.close()\n",
    "\n",
    "df.head()"
   ]
  },
  {
   "cell_type": "code",
   "execution_count": 3,
   "metadata": {
    "ExecuteTime": {
     "end_time": "2019-08-07T16:26:40.732651Z",
     "start_time": "2019-08-07T16:26:40.568666Z"
    }
   },
   "outputs": [
    {
     "name": "stdout",
     "output_type": "stream",
     "text": [
      "(30257, 6)\n"
     ]
    },
    {
     "data": {
      "text/html": [
       "<div>\n",
       "<style scoped>\n",
       "    .dataframe tbody tr th:only-of-type {\n",
       "        vertical-align: middle;\n",
       "    }\n",
       "\n",
       "    .dataframe tbody tr th {\n",
       "        vertical-align: top;\n",
       "    }\n",
       "\n",
       "    .dataframe thead th {\n",
       "        text-align: right;\n",
       "    }\n",
       "</style>\n",
       "<table border=\"1\" class=\"dataframe\">\n",
       "  <thead>\n",
       "    <tr style=\"text-align: right;\">\n",
       "      <th></th>\n",
       "      <th>title</th>\n",
       "      <th>author</th>\n",
       "      <th>date</th>\n",
       "      <th>content</th>\n",
       "      <th>year</th>\n",
       "      <th>month</th>\n",
       "    </tr>\n",
       "  </thead>\n",
       "  <tbody>\n",
       "    <tr>\n",
       "      <th>0</th>\n",
       "      <td>House Republicans Fret About Winning Their Hea...</td>\n",
       "      <td>Carl Hulse</td>\n",
       "      <td>2016-12-31</td>\n",
       "      <td>WASHINGTON — Congressional Republicans have a ...</td>\n",
       "      <td>2016</td>\n",
       "      <td>12</td>\n",
       "    </tr>\n",
       "    <tr>\n",
       "      <th>1</th>\n",
       "      <td>Rift Between Officers and Residents as Killing...</td>\n",
       "      <td>Benjamin Mueller and Al Baker</td>\n",
       "      <td>2017-06-19</td>\n",
       "      <td>After the bullet shells get counted, the blood...</td>\n",
       "      <td>2017</td>\n",
       "      <td>6</td>\n",
       "    </tr>\n",
       "    <tr>\n",
       "      <th>2</th>\n",
       "      <td>Tyrus Wong, ‘Bambi’ Artist Thwarted by Racial ...</td>\n",
       "      <td>Margalit Fox</td>\n",
       "      <td>2017-01-06</td>\n",
       "      <td>When Walt Disney’s “Bambi” opened in 1942, cri...</td>\n",
       "      <td>2017</td>\n",
       "      <td>1</td>\n",
       "    </tr>\n",
       "    <tr>\n",
       "      <th>3</th>\n",
       "      <td>Among Deaths in 2016, a Heavy Toll in Pop Musi...</td>\n",
       "      <td>William McDonald</td>\n",
       "      <td>2017-04-10</td>\n",
       "      <td>Death may be the great equalizer, but it isn’t...</td>\n",
       "      <td>2017</td>\n",
       "      <td>4</td>\n",
       "    </tr>\n",
       "    <tr>\n",
       "      <th>4</th>\n",
       "      <td>Kim Jong-un Says North Korea Is Preparing to T...</td>\n",
       "      <td>Choe Sang-Hun</td>\n",
       "      <td>2017-01-02</td>\n",
       "      <td>SEOUL, South Korea — North Korea’s leader, Kim...</td>\n",
       "      <td>2017</td>\n",
       "      <td>1</td>\n",
       "    </tr>\n",
       "  </tbody>\n",
       "</table>\n",
       "</div>"
      ],
      "text/plain": [
       "                                               title  \\\n",
       "0  House Republicans Fret About Winning Their Hea...   \n",
       "1  Rift Between Officers and Residents as Killing...   \n",
       "2  Tyrus Wong, ‘Bambi’ Artist Thwarted by Racial ...   \n",
       "3  Among Deaths in 2016, a Heavy Toll in Pop Musi...   \n",
       "4  Kim Jong-un Says North Korea Is Preparing to T...   \n",
       "\n",
       "                          author        date  \\\n",
       "0                     Carl Hulse  2016-12-31   \n",
       "1  Benjamin Mueller and Al Baker  2017-06-19   \n",
       "2                   Margalit Fox  2017-01-06   \n",
       "3               William McDonald  2017-04-10   \n",
       "4                  Choe Sang-Hun  2017-01-02   \n",
       "\n",
       "                                             content  year month  \n",
       "0  WASHINGTON — Congressional Republicans have a ...  2016    12  \n",
       "1  After the bullet shells get counted, the blood...  2017     6  \n",
       "2  When Walt Disney’s “Bambi” opened in 1942, cri...  2017     1  \n",
       "3  Death may be the great equalizer, but it isn’t...  2017     4  \n",
       "4  SEOUL, South Korea — North Korea’s leader, Kim...  2017     1  "
      ]
     },
     "execution_count": 3,
     "metadata": {},
     "output_type": "execute_result"
    }
   ],
   "source": [
    "def clean_df(df):\n",
    "    df = df.copy().query('category == \"newspaper\" & publication == \"New York Times\"')\n",
    "    df = df.drop(['id', 'digital', 'section', 'url', 'category', 'publication'], axis=1)\n",
    "    df['author'] = df['author'].str.replace('\\n', '')\n",
    "    \n",
    "    return df\n",
    "    \n",
    "df = clean_df(df).reset_index(drop=True)\n",
    "print(df.shape)\n",
    "df.head()"
   ]
  },
  {
   "cell_type": "code",
   "execution_count": 4,
   "metadata": {
    "ExecuteTime": {
     "end_time": "2019-08-07T16:26:40.739008Z",
     "start_time": "2019-08-07T16:26:40.734339Z"
    }
   },
   "outputs": [
    {
     "data": {
      "text/plain": [
       "'WASHINGTON — Congressional Republicans have a new fear when it comes to their two-year-old health care lawsuit against the Obama administration: They might win. The incoming Trump administration could choose to no longer defend the executive branch against the suit, which challenges the administration’s authority to spend billions of dollars on health insurance subsidies for low- and moderate-income Americans, handing House Republicans a big victory on separation-of-power issues. But a sudden loss of the disputed subsidies could conceivably cause the health care program to implode, leaving millions of people without access to health insurance before Republicans have prepared a replacement. That could lead to chaos in the insurance market and spur a political backlash just as Republicans gain full control of the government. To stave off that outcome, Republicans could find themselves in the awkward position of appropriating huge sums to temporarily prop up the Obama health care law, angering conservative voters who have been demanding an end to the law for years. In another twist, Donald J. Trump’s administration, worried about preserving executive branch prerogatives, could choose to fight its Republican allies in the House on some central questions in the dispute. Eager to avoid an ugly political pileup, Republicans on Capitol Hill and the Trump transition team are gaming out how to handle the lawsuit, which, after the election, has been put in limbo until at least late February by the United States Court of Appeals for the District of Columbia Circuit. They are not yet ready to divulge their strategy. “Given that this pending litigation involves the Obama administration and Congress, it would be inappropriate to comment,” said Phillip J. Blando, a spokesman for the Trump transition effort. “Upon taking office, the Trump administration will evaluate this case and all related aspects of the Affordable Care Act.” In a potentially far-reaching decision in 2015, Judge Rosemary M. Collyer ruled that House Republicans had the standing to sue the executive branch over a spending dispute and that the Obama administration had been distributing the health insurance subsidies, in violation of the Constitution, without approval from Congress. The Justice Department, confident that Judge Collyer’s decision would be reversed, quickly appealed, and the subsidies have remained in place during the appeal. In successfully seeking a temporary halt in the proceedings after Mr. Trump won, House Republicans last month told the court that they “and the president-elect’s transition team currently are discussing potential options for resolution of this matter, to take effect after the president-elect’s inauguration on Jan. 20, 2017.” The suspension of the case, House lawyers said, will “provide the president-elect and his future administration time to consider whether to continue prosecuting or to otherwise resolve this appeal.” Republican leadership officials in the House acknowledge the possibility of “cascading effects” if the cost-sharing payments, which have totaled an estimated $13 billion, are suddenly stopped. Insurers that receive the subsidies in exchange for paying out-of-pocket costs such as deductibles and co-pays for eligible consumers could race to drop coverage since they would be losing money. Over all, the loss of the subsidies could destabilize the entire program and cause a lack of confidence that leads other insurers to seek a quick exit as well. Anticipating that the Trump administration might not be inclined to mount a vigorous fight against the House Republicans given the president-elect’s dim view of the health care law, a team of lawyers this month sought to intervene in the case on behalf of two participants in the health care program. In their request, the lawyers predicted that a deal between House Republicans and the new administration to dismiss or settle the case “will produce devastating consequences for the individuals who receive these reductions, as well as for the nation’s health insurance and health care systems generally.” No matter what happens, House Republicans say, they want to prevail on two overarching concepts: the congressional power of the purse, and the right of Congress to sue the executive branch if it violates the Constitution regarding that spending power. House Republicans contend that Congress never appropriated the money for the subsidies, as required by the Constitution. In the suit, which was initially championed by John A. Boehner, the House speaker at the time, and later in House committee reports, Republicans asserted that the administration, desperate for the funding, had required the Treasury Department to provide it despite widespread internal skepticism that the spending was proper. The White House said that the spending was a permanent part of the law passed in 2010, and that no annual appropriation was required — even though the administration initially sought one. Just as important to House Republicans, Judge Collyer found that Congress had the standing to sue the White House on this issue — a ruling that many legal experts said was flawed — and they want that precedent to be set to restore congressional leverage over the executive branch. But on spending power and standing, the Trump administration may come under pressure from advocates of presidential authority to fight the House no matter their shared views on health care, since those precedents could have broad repercussions. It is a complicated set of dynamics illustrating how a quick legal victory for the House in the Trump era might come with costs that Republicans never anticipated when they took on the Obama White House.'"
      ]
     },
     "execution_count": 4,
     "metadata": {},
     "output_type": "execute_result"
    }
   ],
   "source": [
    "df.loc[0, 'content']"
   ]
  },
  {
   "cell_type": "markdown",
   "metadata": {
    "ExecuteTime": {
     "end_time": "2019-08-06T17:20:22.300703Z",
     "start_time": "2019-08-06T17:20:22.269570Z"
    }
   },
   "source": [
    "## Preprocessing"
   ]
  },
  {
   "cell_type": "code",
   "execution_count": null,
   "metadata": {
    "ExecuteTime": {
     "start_time": "2019-08-07T16:26:37.775Z"
    }
   },
   "outputs": [],
   "source": [
    "nlp = spacy.load('en_core_web_sm')\n",
    "\n",
    "def keep_token(t):\n",
    "    return (t.is_alpha and \n",
    "            not (t.is_space or t.is_punct or \n",
    "                 t.is_stop or t.like_num))\n",
    "\n",
    "def lemmatize_doc(doc):\n",
    "    return [t.lemma_ for t in doc if keep_token(t)]\n",
    "\n",
    "def preprocess(texts, no_below=1e-3, no_above=.2):\n",
    "    docs = [lemmatize_doc(nlp(doc)) for doc in texts]\n",
    "    docs_dict = Dictionary(docs)\n",
    "    docs_dict.filter_extremes(no_below=no_below, no_above=no_above)\n",
    "    docs_dict.compactify()\n",
    "    docs_corpus = [docs_dict.doc2bow(doc) for doc in docs]\n",
    "    model_tfidf = TfidfModel(docs_corpus, id2word=docs_dict)\n",
    "    docs_tfidf = model_tfidf[docs_corpus]\n",
    "    tfidf_matrix = np.vstack([sparse2full(c, len(docs_dict)) for c in docs_tfidf])\n",
    "    \n",
    "    return pd.DataFrame(tfidf_matrix, columns=docs_dict.token2id.keys())\n",
    "\n",
    "tfidf_df = preprocess(df['content'])\n",
    "print(tfidf_df.shape)\n",
    "tfidf_df.head()"
   ]
  },
  {
   "cell_type": "code",
   "execution_count": null,
   "metadata": {
    "ExecuteTime": {
     "end_time": "2019-08-07T13:54:39.462838Z",
     "start_time": "2019-08-07T13:54:39.459704Z"
    }
   },
   "outputs": [],
   "source": []
  },
  {
   "cell_type": "code",
   "execution_count": null,
   "metadata": {
    "ExecuteTime": {
     "end_time": "2019-08-07T13:54:39.496504Z",
     "start_time": "2019-08-07T13:54:39.465442Z"
    }
   },
   "outputs": [],
   "source": []
  },
  {
   "cell_type": "code",
   "execution_count": null,
   "metadata": {
    "ExecuteTime": {
     "end_time": "2019-08-07T13:18:37.021065Z",
     "start_time": "2019-08-07T13:18:36.993862Z"
    }
   },
   "outputs": [],
   "source": []
  },
  {
   "cell_type": "code",
   "execution_count": null,
   "metadata": {},
   "outputs": [],
   "source": []
  },
  {
   "cell_type": "code",
   "execution_count": null,
   "metadata": {},
   "outputs": [],
   "source": []
  },
  {
   "cell_type": "code",
   "execution_count": null,
   "metadata": {},
   "outputs": [],
   "source": []
  },
  {
   "cell_type": "code",
   "execution_count": null,
   "metadata": {},
   "outputs": [],
   "source": []
  },
  {
   "cell_type": "code",
   "execution_count": null,
   "metadata": {},
   "outputs": [],
   "source": []
  },
  {
   "cell_type": "code",
   "execution_count": null,
   "metadata": {},
   "outputs": [],
   "source": []
  },
  {
   "cell_type": "code",
   "execution_count": null,
   "metadata": {},
   "outputs": [],
   "source": []
  },
  {
   "cell_type": "code",
   "execution_count": null,
   "metadata": {},
   "outputs": [],
   "source": []
  },
  {
   "cell_type": "code",
   "execution_count": null,
   "metadata": {},
   "outputs": [],
   "source": []
  }
 ],
 "metadata": {
  "kernelspec": {
   "display_name": "Python [conda env:news-summarizer]",
   "language": "python",
   "name": "conda-env-news-summarizer-py"
  },
  "language_info": {
   "codemirror_mode": {
    "name": "ipython",
    "version": 3
   },
   "file_extension": ".py",
   "mimetype": "text/x-python",
   "name": "python",
   "nbconvert_exporter": "python",
   "pygments_lexer": "ipython3",
   "version": "3.7.3"
  },
  "toc": {
   "base_numbering": 1,
   "nav_menu": {},
   "number_sections": true,
   "sideBar": true,
   "skip_h1_title": true,
   "title_cell": "Table of Contents",
   "title_sidebar": "Contents",
   "toc_cell": false,
   "toc_position": {
    "height": "calc(100% - 180px)",
    "left": "10px",
    "top": "150px",
    "width": "238px"
   },
   "toc_section_display": true,
   "toc_window_display": true
  }
 },
 "nbformat": 4,
 "nbformat_minor": 2
}
